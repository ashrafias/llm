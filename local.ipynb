{
 "cells": [
  {
   "cell_type": "markdown",
   "metadata": {},
   "source": [
    "# A simple RAG application using open-source models"
   ]
  },
  {
   "cell_type": "code",
   "execution_count": 1,
   "metadata": {},
   "outputs": [],
   "source": [
    "import os\n",
    "#: Imports the Python os module, which is used for interacting with the operating system, like working with files and environment variables.\n",
    "from dotenv import load_dotenv\n",
    "#mports the load_dotenv function from the dotenv module. This is used to load environment variables from a .env file into your environment.\n",
    "load_dotenv()\n",
    "#This function loads environment variables from a .env file in the current directory (or another location if specified). \n",
    "# It's important for securely handling sensitive information like API keys without hardcoding them into your code.\n",
    "\n",
    "\n",
    "OPENAI_API_KEY = os.getenv(\"OPENAI_API_KEY\")\n",
    "\n",
    "#MODEL = \"gpt-3.5-turbo\"\n",
    "#MODEL = \"mixtral:8x7b\"\n",
    "#MODEL = \"llama2\"\n",
    "#MODEL =  \"mistral\"\n",
    "MODEL =  \"phi\"\n",
    "\n",
    "#Loads environment variables from a .env file using load_dotenv().\n",
    "#Retrieves the OPENAI_API_KEY from the environment using os.getenv(\"OPENAI_API_KEY\").\n",
    "#Defines the MODEL variable, selecting \"phi\" as the active model."
   ]
  },
  {
   "cell_type": "code",
   "execution_count": null,
   "metadata": {},
   "outputs": [
    {
     "name": "stderr",
     "output_type": "stream",
     "text": [
      "C:\\Users\\Mohammad\\AppData\\Local\\Temp\\ipykernel_25592\\1153194678.py:18: LangChainDeprecationWarning: The class `Ollama` was deprecated in LangChain 0.3.1 and will be removed in 1.0.0. An updated version of the class exists in the :class:`~langchain-ollama package and should be used instead. To use it run `pip install -U :class:`~langchain-ollama` and import as `from :class:`~langchain_ollama import OllamaLLM``.\n",
      "  model = Ollama(model=MODEL)\n",
      "C:\\Users\\Mohammad\\AppData\\Local\\Temp\\ipykernel_25592\\1153194678.py:22: LangChainDeprecationWarning: The class `OllamaEmbeddings` was deprecated in LangChain 0.3.1 and will be removed in 1.0.0. An updated version of the class exists in the :class:`~langchain-ollama package and should be used instead. To use it run `pip install -U :class:`~langchain-ollama` and import as `from :class:`~langchain_ollama import OllamaEmbeddings``.\n",
      "  embeddings = OllamaEmbeddings(model=MODEL)\n"
     ]
    },
    {
     "data": {
      "text/plain": [
       "\" Sure, here's a joke for you - Why don't scientists trust atoms? Because they make up everything!\\n\""
      ]
     },
     "execution_count": 2,
     "metadata": {},
     "output_type": "execute_result"
    }
   ],
   "source": [
    "from langchain_community.llms import Ollama\n",
    "#imports the Ollama class from the langchain_community.llms module. \n",
    "# This class is designed to integrate Ollama language models into the LangChain framework.\n",
    "\n",
    "#from langchain_openai.chat_models import ChatOpenAI\n",
    "\n",
    "from langchain_community.embeddings import OllamaEmbeddings\n",
    "\n",
    "#imports the OllamaEmbeddings class from the langchain_community.embeddings module. \n",
    "# This class is designed to generate embeddings (numerical vector representations) for text using an Ollama model.\n",
    "\n",
    "##from langchain_openai.embeddings import OpenAIEmbeddings\n",
    "##if MODEL.startswith(\"gpt\"):\n",
    "##    model = ChatOpenAI(openai_api_key=OPENAI_API_KEY, model=MODEL)\n",
    "##    embeddings = OpenAIEmbeddings()\n",
    "##else:\n",
    "\n",
    "model = Ollama(model=MODEL)\n",
    "\n",
    "#initialize an Ollama model instance in Python\n",
    "#If you want to use the phi model to generate text, the Ollama package helps you send queries to phi and retrieve the results. \n",
    "\n",
    "embeddings = OllamaEmbeddings(model=MODEL)\n",
    "  \n",
    "   # The OllamaEmbeddings object is instantiated, connecting the embeddings to the specified model.\n",
    "   # This object embeddings  is now capable of converting text into numerical vector representations.\n",
    "\n",
    "model.invoke(\"Tell me a joke\")\n",
    "\n",
    "#This sends the text \"Tell me a joke\" to the LLM (Large Language Model) instance stored in model, and the model generates a joke in response.\n"
   ]
  },
  {
   "cell_type": "code",
   "execution_count": 4,
   "metadata": {},
   "outputs": [
    {
     "data": {
      "text/plain": [
       "\" Sure, I'd be happy to tell you a joke! Here's one for you: Why did the tomato turn red? Because it saw the salad dressing!\\n\""
      ]
     },
     "execution_count": 4,
     "metadata": {},
     "output_type": "execute_result"
    }
   ],
   "source": [
    "from langchain_core.output_parsers import StrOutputParser\n",
    "# importing the StrOutputParser class from the langchain_core.output_parsers module. \n",
    "\n",
    "parser = StrOutputParser()\n",
    "\n",
    "chain = model | parser  \n",
    "chain.invoke(\"Tell me a joke\")\n",
    "\n",
    "#The expression chain = model | parser represents a pipeline where the output of the model is \n",
    "# passed directly into the parser for further processing."
   ]
  },
  {
   "cell_type": "code",
   "execution_count": 21,
   "metadata": {},
   "outputs": [
    {
     "name": "stdout",
     "output_type": "stream",
     "text": [
      "\n",
      "Answer the question based on the context below. If you can't \n",
      "answer the question, reply \"I will not say don't know\".\n",
      "\n",
      "context: here is the context\n",
      "\n",
      "question : Here is a question\n",
      "\n"
     ]
    }
   ],
   "source": [
    "from langchain.prompts import PromptTemplate\n",
    "\n",
    "template = \"\"\"\n",
    "Answer the question based on the context below. If you can't \n",
    "answer the question, reply \" say i don't know\".\n",
    "\n",
    "context: {context}\n",
    "\n",
    "question : {question}\n",
    "\"\"\"\n",
    "\n",
    "prompt = PromptTemplate.from_template(template)\n",
    "#This line creates a PromptTemplate object using the template string.\n",
    "\n",
    "print(prompt.format(context=\"here is the context\", question=\"Here is a question\"))\n",
    "#This method replaces the placeholders in the template with the provided values for context and question."
   ]
  },
  {
   "cell_type": "code",
   "execution_count": 28,
   "metadata": {},
   "outputs": [
    {
     "data": {
      "text/plain": [
       "' Hi there! I\\'m an artificial intelligence assistant and I\\'m always here to help. Your name is Raj in English and it\\'s pronounced \"Rah-kah.\" It means \"heavenly\" or \"high\" in Sanskrit, an ancient Indian language.\\n'"
      ]
     },
     "execution_count": 28,
     "metadata": {},
     "output_type": "execute_result"
    }
   ],
   "source": [
    "chain = prompt | model | parser\n",
    "\n",
    "#prompt is  a PromptTemplate object or a string that represents the input prompt that will be used for the model. \n",
    "# It defines how the input to the model should be structured.\n",
    "#model  typically refers to an AI model (like OpenAI's GPT, Ollama, or others) that takes the formatted prompt and generates a response.\n",
    "#parse This   refer to a parser or function that processes or interprets the model's output\n",
    "\n",
    "#chain.invoke({\"context\": \"My parents named me Raj\", \"question\": \"What's the capital of india'?\"})\n",
    "chain.invoke({\"context\": \"My parents named me Raj\", \"question\": \"What is my  name '?\"})\n",
    "#chain.invoke({\"context\": \"today is sunday\", \"question\": \"What is   yesterday '?\"})\n",
    "\n",
    "#A chain in LangChain is a sequence of processing steps where each step handles part of the task (e.g., prompting, generating a response, parsing, etc.).\n",
    "#This is an example of calling a function (or chain) in a programming context, \n",
    "#typically used in AI or natural language processing models, to get an answer based on provided information.\n",
    "\n",
    "#You provide some information (context) and ask a question about it, and the system figures out the answer for you."
   ]
  },
  {
   "cell_type": "code",
   "execution_count": 30,
   "metadata": {},
   "outputs": [
    {
     "data": {
      "text/plain": [
       "[Document(metadata={'source': 'C:\\\\OLLAMA\\\\SDM.pdf', 'page': 0}, page_content='Name Ihab \\nRequested Role SAP Service Delivery Manager \\nProject GTA  \\nAreas of \\nExpertise/Skills \\nTechnical Skills: \\nHCM & CRM Systems: SAP SuccessFactors, Oracle Fusion Cloud HCM & \\nCRM, JD Edwards, NetSuite Programming Languages: JavaScript, SQL, \\nPython, Java, C#, HTML, CSS Data Analysis Tools: SAP Analytics Cloud \\n(SAC), SQL Server Management Studio. \\nDevelopment Tools: Visual Studio, Eclipse, Atom \\nManagement Skills \\nProject Management (SAP Activate, Agile, Waterfall) \\nLeadership of Cross-functional Teams \\nRisk Assessment and Mitigation Strategies \\nChange Management and Process Improvement \\nStrategic Planning and Execution \\nSoft Skills: \\nAdvanced analytical and problem-solving skills \\nTeam mentoring and leadership \\nEﬀective communication and collaboration \\nEducation \\n1. Bachelor of Business Administration in Management Information \\nTechnology Lebanese University, Hadath, Lebanon (September 2014 – \\nJune 2017) Coursework: Systems Analysis, Database Management, \\nNetworking, Data Security. \\nCertiﬁcations and \\nTraining \\nSAP Certiﬁcations: \\n1.SAP Certiﬁed Associate - SAP Activate Project Manager (March 2022) \\nOracle Certiﬁcations: \\n2.Oracle Certiﬁed Implementation Specialist - CX Sales 2020 \\n3.Oracle Certiﬁed Implementation Specialist - Global Human Resources \\nCloud (2020 & 2018)'),\n",
       " Document(metadata={'source': 'C:\\\\OLLAMA\\\\SDM.pdf', 'page': 1}, page_content='4.Oracle Engagement Cloud Solution Engineer Consultant (2019) \\n5.Oracle Engagement Cloud for Sales (2017) \\nYears of Experience  7+ years specializing in SAP and Oracle HCM & CRM solutions. \\nWork Experience  \\n1. VAKE Consulting, UAE Tenure: February 2022 – Present \\nRole: SAP Project Manager / Delivery Manager / Support Manager \\nProject Management: \\nDelivered over 10 SAP SuccessFactors projects with a 95% on-time \\ndelivery rate and a 99% client satisfaction score. \\nSuccessfully implemented the SAP Activate methodology, reducing project \\ndelivery timelines by 20%. \\nDirected cross-functional teams of senior consultants, improving \\nperformance and achieving a 30% increase in project success rates. \\nWe applied proactive risk management strategies to reduce project \\ndelays by 25% and cut costs by 15%. \\nSupport Management: \\nLed a team to maintain 99% system uptime for SAP SuccessFactors clients. \\nEstablished best practices and standard operating procedures (SOPs), \\nboosting eﬃciency and consistency across support operations. \\nPresales Activities: \\nDelivered high-impact product demonstrations and client presentations \\nfor SAP SuccessFactors and SAP Analytics Cloud (SAC). \\nPartnered with the sales team to prepare tailored proposals, contributing \\nto a 20% increase in new client acquisitions. \\nAnalyzed client requirements, ensuring solutions were closely aligned \\nwith business needs. \\nKey Achievements: \\nEnhanced repeat business by 20% through client relationship \\nmanagement. \\nSuccessfully executed projects for notable clients, including Breitling \\n(Switzerland), Kongsberg Automotive (Germany), and ICRC (Switzerland). \\n2. Global Technology Solution, Lebanon Tenure: August 2017 – January \\n2022'),\n",
       " Document(metadata={'source': 'C:\\\\OLLAMA\\\\SDM.pdf', 'page': 2}, page_content='Role: Senior Application Consultant  \\nOracle Fusion HCM Implementations: \\nDelivered Core HR and Absence Management modules for Fransabank \\nSAL (Lebanon), enhancing workforce eﬃciency and data accuracy. \\nExecuted performance appraisal and workforce compensation systems for \\nLogicom (Greece), integrating sales data from 30+ brands. \\nNetSuite Customizations: \\nDeveloped tailored workﬂows for Sallaum Lines/Saﬁco, streamlining \\nvendor and invoice payment processes. \\nCreated customizations for CRM modules using SuiteFlow and SuiteScript, \\ndelivering personalized solutions for Transmed and MMG Group. \\nJD Edwards HCM & Payroll Implementation: \\nDesigned employee beneﬁts, deductions, and leave management systems \\nfor Barari UAE, ensuring compliance with local laws. \\nPresales & Business Development: \\nPresented Oracle Fusion HCM, NetSuite, and Engagement Cloud to \\npotential clients, supporting sales team eﬀorts and improving proposal \\nacceptance rates. \\nKey Achievements: \\nReached a 90% user adoption rate for deployed systems through eﬀective \\ntraining and support. \\nManaged high-impact projects for clients such as Fransabank SAL \\n(Lebanon), Himaya NGO (Lebanon), and America Medic and Science \\n(USA). \\n \\nNationality and \\nLanguages \\nNationality: Lebanese  \\nArabic: Native Proﬁciency \\nEnglish: Full Professional Proﬁciency')]"
      ]
     },
     "execution_count": 30,
     "metadata": {},
     "output_type": "execute_result"
    }
   ],
   "source": [
    "from langchain_community.document_loaders import PyPDFLoader\n",
    "\n",
    "loader = PyPDFLoader(r\"C:\\OLLAMA\\UAE-CSE-UNIV.pdf\")\n",
    "\n",
    "#loader = PyPDFLoader(r\"C:\\OLLAMA\\SDM.pdf\")\n",
    "#loader = PyPDFLoader(r\"C:\\OLLAMA\\ReleaseNotes.pdf\")\n",
    "\n",
    "pages = loader.load_and_split()\n",
    "pages\n",
    "\n",
    "\n",
    "#This is a document loader class in LangChain designed to load content from a PDF file.\n",
    "#It extracts the text content of the PDF for further processing.\n"
   ]
  },
  {
   "cell_type": "code",
   "execution_count": 31,
   "metadata": {},
   "outputs": [
    {
     "name": "stdout",
     "output_type": "stream",
     "text": [
      "Name Ihab \n",
      "Requested Role SAP Service Delivery Manager \n",
      "Project GTA  \n",
      "Areas of \n",
      "Expertise/Skills \n",
      "Technical Skills: \n",
      "HCM & CRM Systems: SAP SuccessFactors, Oracle Fusion Cloud HCM & \n",
      "CRM, JD Edwards, NetSuite Programming Languages: JavaScript, SQL, \n",
      "Python, Java, C#, HTML, CSS Data Analysis Tools: SAP Analytics Cloud \n",
      "(SAC), SQL Server Management Studio. \n",
      "Development Tools: Visual Studio, Eclipse, Atom \n",
      "Management Skills \n",
      "Project Management (SAP Activate, Agile, Waterfall) \n",
      "Leadership of Cross-functional Teams \n",
      "Risk Assessment and Mitigation Strategies \n",
      "Change Management and Process Improvement \n",
      "Strategic Planning and Execution \n",
      "Soft Skills: \n",
      "Advanced analytical and problem-solving skills \n",
      "Team mentoring and leadership \n",
      "Eﬀective communication and collaboration \n",
      "Education \n",
      "1. Bachelor of Business Administration in Management Information \n",
      "Technology Lebanese University, Hadath, Lebanon (September 2014 – \n",
      "June 2017) Coursework: Systems Analysis, Database Management, \n",
      "Networking, Data Security. \n",
      "Certiﬁcations and \n",
      "Training \n",
      "SAP Certiﬁcations: \n",
      "1.SAP Certiﬁed Associate - SAP Activate Project Manager (March 2022) \n",
      "Oracle Certiﬁcations: \n",
      "2.Oracle Certiﬁed Implementation Specialist - CX Sales 2020 \n",
      "3.Oracle Certiﬁed Implementation Specialist - Global Human Resources \n",
      "Cloud (2020 & 2018)\n",
      "------\n",
      "4.Oracle Engagement Cloud Solution Engineer Consultant (2019) \n",
      "5.Oracle Engagement Cloud for Sales (2017) \n",
      "Years of Experience  7+ years specializing in SAP and Oracle HCM & CRM solutions. \n",
      "Work Experience  \n",
      "1. VAKE Consulting, UAE Tenure: February 2022 – Present \n",
      "Role: SAP Project Manager / Delivery Manager / Support Manager \n",
      "Project Management: \n",
      "Delivered over 10 SAP SuccessFactors projects with a 95% on-time \n",
      "delivery rate and a 99% client satisfaction score. \n",
      "Successfully implemented the SAP Activate methodology, reducing project \n",
      "delivery timelines by 20%. \n",
      "Directed cross-functional teams of senior consultants, improving \n",
      "performance and achieving a 30% increase in project success rates. \n",
      "We applied proactive risk management strategies to reduce project \n",
      "delays by 25% and cut costs by 15%. \n",
      "Support Management: \n",
      "Led a team to maintain 99% system uptime for SAP SuccessFactors clients. \n",
      "Established best practices and standard operating procedures (SOPs), \n",
      "boosting eﬃciency and consistency across support operations. \n",
      "Presales Activities: \n",
      "Delivered high-impact product demonstrations and client presentations \n",
      "for SAP SuccessFactors and SAP Analytics Cloud (SAC). \n",
      "Partnered with the sales team to prepare tailored proposals, contributing \n",
      "to a 20% increase in new client acquisitions. \n",
      "Analyzed client requirements, ensuring solutions were closely aligned \n",
      "with business needs. \n",
      "Key Achievements: \n",
      "Enhanced repeat business by 20% through client relationship \n",
      "management. \n",
      "Successfully executed projects for notable clients, including Breitling \n",
      "(Switzerland), Kongsberg Automotive (Germany), and ICRC (Switzerland). \n",
      "2. Global Technology Solution, Lebanon Tenure: August 2017 – January \n",
      "2022\n",
      "------\n",
      "Role: Senior Application Consultant  \n",
      "Oracle Fusion HCM Implementations: \n",
      "Delivered Core HR and Absence Management modules for Fransabank \n",
      "SAL (Lebanon), enhancing workforce eﬃciency and data accuracy. \n",
      "Executed performance appraisal and workforce compensation systems for \n",
      "Logicom (Greece), integrating sales data from 30+ brands. \n",
      "NetSuite Customizations: \n",
      "Developed tailored workﬂows for Sallaum Lines/Saﬁco, streamlining \n",
      "vendor and invoice payment processes. \n",
      "Created customizations for CRM modules using SuiteFlow and SuiteScript, \n",
      "delivering personalized solutions for Transmed and MMG Group. \n",
      "JD Edwards HCM & Payroll Implementation: \n",
      "Designed employee beneﬁts, deductions, and leave management systems \n",
      "for Barari UAE, ensuring compliance with local laws. \n",
      "Presales & Business Development: \n",
      "Presented Oracle Fusion HCM, NetSuite, and Engagement Cloud to \n",
      "potential clients, supporting sales team eﬀorts and improving proposal \n",
      "acceptance rates. \n",
      "Key Achievements: \n",
      "Reached a 90% user adoption rate for deployed systems through eﬀective \n",
      "training and support. \n",
      "Managed high-impact projects for clients such as Fransabank SAL \n",
      "(Lebanon), Himaya NGO (Lebanon), and America Medic and Science \n",
      "(USA). \n",
      " \n",
      "Nationality and \n",
      "Languages \n",
      "Nationality: Lebanese  \n",
      "Arabic: Native Proﬁciency \n",
      "English: Full Professional Proﬁciency\n",
      "------\n"
     ]
    }
   ],
   "source": [
    "for page in pages:\n",
    "    print(page.page_content)  # Prints the content of each page\n",
    "    print(\"------\")"
   ]
  },
  {
   "cell_type": "code",
   "execution_count": 32,
   "metadata": {},
   "outputs": [
    {
     "name": "stderr",
     "output_type": "stream",
     "text": [
      "C:\\Users\\Mohammad\\AppData\\Local\\Packages\\PythonSoftwareFoundation.Python.3.11_qbz5n2kfra8p0\\LocalCache\\local-packages\\Python311\\site-packages\\pydantic\\_migration.py:283: UserWarning: `pydantic.error_wrappers:ValidationError` has been moved to `pydantic:ValidationError`.\n",
      "  warnings.warn(f'`{import_path}` has been moved to `{new_location}`.')\n"
     ]
    }
   ],
   "source": [
    "from langchain_community.vectorstores import DocArrayInMemorySearch\n",
    "\n",
    "#imports the DocArrayInMemorySearch class from the langchain_community.vectorstores module. \n",
    "# This class allows you to store, manage, and search vector embeddings directly in memory using the DocArray library.\n",
    "\n",
    "vectorstore = DocArrayInMemorySearch.from_documents(\n",
    "    pages, \n",
    "    embedding=embeddings\n",
    "    )\n",
    "\n",
    "#creates a vector store using the DocArrayInMemorySearch class from a set of documents (pages)  and their corresponding embeddings (embeddings). \n",
    "\n",
    "#  DocArrayInMemorySearch: It is a class that provides an in-memory vector search and vector store \n",
    "#It stores document embeddings in RAM instead of a persistent database like Pinecone, FAISS or Chroma.\n",
    "#This is useful for quick and temporary vector storage.\n",
    "\n",
    "#.from_documents(pages, embedding=embeddings): This method creates a vector store from a list of documents (pages).\n",
    "#Each document in pages is converted into a vector representation using the embeddings model."
   ]
  },
  {
   "cell_type": "code",
   "execution_count": 33,
   "metadata": {},
   "outputs": [
    {
     "name": "stdout",
     "output_type": "stream",
     "text": [
      "[Document(metadata={'source': 'C:\\\\OLLAMA\\\\SDM.pdf', 'page': 2}, page_content='Role: Senior Application Consultant  \\nOracle Fusion HCM Implementations: \\nDelivered Core HR and Absence Management modules for Fransabank \\nSAL (Lebanon), enhancing workforce eﬃciency and data accuracy. \\nExecuted performance appraisal and workforce compensation systems for \\nLogicom (Greece), integrating sales data from 30+ brands. \\nNetSuite Customizations: \\nDeveloped tailored workﬂows for Sallaum Lines/Saﬁco, streamlining \\nvendor and invoice payment processes. \\nCreated customizations for CRM modules using SuiteFlow and SuiteScript, \\ndelivering personalized solutions for Transmed and MMG Group. \\nJD Edwards HCM & Payroll Implementation: \\nDesigned employee beneﬁts, deductions, and leave management systems \\nfor Barari UAE, ensuring compliance with local laws. \\nPresales & Business Development: \\nPresented Oracle Fusion HCM, NetSuite, and Engagement Cloud to \\npotential clients, supporting sales team eﬀorts and improving proposal \\nacceptance rates. \\nKey Achievements: \\nReached a 90% user adoption rate for deployed systems through eﬀective \\ntraining and support. \\nManaged high-impact projects for clients such as Fransabank SAL \\n(Lebanon), Himaya NGO (Lebanon), and America Medic and Science \\n(USA). \\n \\nNationality and \\nLanguages \\nNationality: Lebanese  \\nArabic: Native Proﬁciency \\nEnglish: Full Professional Proﬁciency'), Document(metadata={'source': 'C:\\\\OLLAMA\\\\SDM.pdf', 'page': 0}, page_content='Name Ihab \\nRequested Role SAP Service Delivery Manager \\nProject GTA  \\nAreas of \\nExpertise/Skills \\nTechnical Skills: \\nHCM & CRM Systems: SAP SuccessFactors, Oracle Fusion Cloud HCM & \\nCRM, JD Edwards, NetSuite Programming Languages: JavaScript, SQL, \\nPython, Java, C#, HTML, CSS Data Analysis Tools: SAP Analytics Cloud \\n(SAC), SQL Server Management Studio. \\nDevelopment Tools: Visual Studio, Eclipse, Atom \\nManagement Skills \\nProject Management (SAP Activate, Agile, Waterfall) \\nLeadership of Cross-functional Teams \\nRisk Assessment and Mitigation Strategies \\nChange Management and Process Improvement \\nStrategic Planning and Execution \\nSoft Skills: \\nAdvanced analytical and problem-solving skills \\nTeam mentoring and leadership \\nEﬀective communication and collaboration \\nEducation \\n1. Bachelor of Business Administration in Management Information \\nTechnology Lebanese University, Hadath, Lebanon (September 2014 – \\nJune 2017) Coursework: Systems Analysis, Database Management, \\nNetworking, Data Security. \\nCertiﬁcations and \\nTraining \\nSAP Certiﬁcations: \\n1.SAP Certiﬁed Associate - SAP Activate Project Manager (March 2022) \\nOracle Certiﬁcations: \\n2.Oracle Certiﬁed Implementation Specialist - CX Sales 2020 \\n3.Oracle Certiﬁed Implementation Specialist - Global Human Resources \\nCloud (2020 & 2018)'), Document(metadata={'source': 'C:\\\\OLLAMA\\\\SDM.pdf', 'page': 1}, page_content='4.Oracle Engagement Cloud Solution Engineer Consultant (2019) \\n5.Oracle Engagement Cloud for Sales (2017) \\nYears of Experience  7+ years specializing in SAP and Oracle HCM & CRM solutions. \\nWork Experience  \\n1. VAKE Consulting, UAE Tenure: February 2022 – Present \\nRole: SAP Project Manager / Delivery Manager / Support Manager \\nProject Management: \\nDelivered over 10 SAP SuccessFactors projects with a 95% on-time \\ndelivery rate and a 99% client satisfaction score. \\nSuccessfully implemented the SAP Activate methodology, reducing project \\ndelivery timelines by 20%. \\nDirected cross-functional teams of senior consultants, improving \\nperformance and achieving a 30% increase in project success rates. \\nWe applied proactive risk management strategies to reduce project \\ndelays by 25% and cut costs by 15%. \\nSupport Management: \\nLed a team to maintain 99% system uptime for SAP SuccessFactors clients. \\nEstablished best practices and standard operating procedures (SOPs), \\nboosting eﬃciency and consistency across support operations. \\nPresales Activities: \\nDelivered high-impact product demonstrations and client presentations \\nfor SAP SuccessFactors and SAP Analytics Cloud (SAC). \\nPartnered with the sales team to prepare tailored proposals, contributing \\nto a 20% increase in new client acquisitions. \\nAnalyzed client requirements, ensuring solutions were closely aligned \\nwith business needs. \\nKey Achievements: \\nEnhanced repeat business by 20% through client relationship \\nmanagement. \\nSuccessfully executed projects for notable clients, including Breitling \\n(Switzerland), Kongsberg Automotive (Germany), and ICRC (Switzerland). \\n2. Global Technology Solution, Lebanon Tenure: August 2017 – January \\n2022')]\n"
     ]
    }
   ],
   "source": [
    "query = \"What is the role of the SAP Service Delivery Manager?\"\n",
    "result = vectorstore.similarity_search(query)\n",
    "print(result)\n",
    "\n",
    "\n",
    "#The code searches for semantically similar documents to the query \n",
    "# **\"What is the role of the SAP Service Delivery Manager?\"** in a vector database (`vectorstore`). \n",
    "# The `similarity_search` method retrieves the most relevant results based on the query's vector embedding.\n"
   ]
  },
  {
   "cell_type": "code",
   "execution_count": 35,
   "metadata": {},
   "outputs": [
    {
     "data": {
      "text/plain": [
       "[Document(metadata={'source': 'C:\\\\OLLAMA\\\\SDM.pdf', 'page': 2}, page_content='Role: Senior Application Consultant  \\nOracle Fusion HCM Implementations: \\nDelivered Core HR and Absence Management modules for Fransabank \\nSAL (Lebanon), enhancing workforce eﬃciency and data accuracy. \\nExecuted performance appraisal and workforce compensation systems for \\nLogicom (Greece), integrating sales data from 30+ brands. \\nNetSuite Customizations: \\nDeveloped tailored workﬂows for Sallaum Lines/Saﬁco, streamlining \\nvendor and invoice payment processes. \\nCreated customizations for CRM modules using SuiteFlow and SuiteScript, \\ndelivering personalized solutions for Transmed and MMG Group. \\nJD Edwards HCM & Payroll Implementation: \\nDesigned employee beneﬁts, deductions, and leave management systems \\nfor Barari UAE, ensuring compliance with local laws. \\nPresales & Business Development: \\nPresented Oracle Fusion HCM, NetSuite, and Engagement Cloud to \\npotential clients, supporting sales team eﬀorts and improving proposal \\nacceptance rates. \\nKey Achievements: \\nReached a 90% user adoption rate for deployed systems through eﬀective \\ntraining and support. \\nManaged high-impact projects for clients such as Fransabank SAL \\n(Lebanon), Himaya NGO (Lebanon), and America Medic and Science \\n(USA). \\n \\nNationality and \\nLanguages \\nNationality: Lebanese  \\nArabic: Native Proﬁciency \\nEnglish: Full Professional Proﬁciency'),\n",
       " Document(metadata={'source': 'C:\\\\OLLAMA\\\\SDM.pdf', 'page': 1}, page_content='4.Oracle Engagement Cloud Solution Engineer Consultant (2019) \\n5.Oracle Engagement Cloud for Sales (2017) \\nYears of Experience  7+ years specializing in SAP and Oracle HCM & CRM solutions. \\nWork Experience  \\n1. VAKE Consulting, UAE Tenure: February 2022 – Present \\nRole: SAP Project Manager / Delivery Manager / Support Manager \\nProject Management: \\nDelivered over 10 SAP SuccessFactors projects with a 95% on-time \\ndelivery rate and a 99% client satisfaction score. \\nSuccessfully implemented the SAP Activate methodology, reducing project \\ndelivery timelines by 20%. \\nDirected cross-functional teams of senior consultants, improving \\nperformance and achieving a 30% increase in project success rates. \\nWe applied proactive risk management strategies to reduce project \\ndelays by 25% and cut costs by 15%. \\nSupport Management: \\nLed a team to maintain 99% system uptime for SAP SuccessFactors clients. \\nEstablished best practices and standard operating procedures (SOPs), \\nboosting eﬃciency and consistency across support operations. \\nPresales Activities: \\nDelivered high-impact product demonstrations and client presentations \\nfor SAP SuccessFactors and SAP Analytics Cloud (SAC). \\nPartnered with the sales team to prepare tailored proposals, contributing \\nto a 20% increase in new client acquisitions. \\nAnalyzed client requirements, ensuring solutions were closely aligned \\nwith business needs. \\nKey Achievements: \\nEnhanced repeat business by 20% through client relationship \\nmanagement. \\nSuccessfully executed projects for notable clients, including Breitling \\n(Switzerland), Kongsberg Automotive (Germany), and ICRC (Switzerland). \\n2. Global Technology Solution, Lebanon Tenure: August 2017 – January \\n2022'),\n",
       " Document(metadata={'source': 'C:\\\\OLLAMA\\\\SDM.pdf', 'page': 0}, page_content='Name Ihab \\nRequested Role SAP Service Delivery Manager \\nProject GTA  \\nAreas of \\nExpertise/Skills \\nTechnical Skills: \\nHCM & CRM Systems: SAP SuccessFactors, Oracle Fusion Cloud HCM & \\nCRM, JD Edwards, NetSuite Programming Languages: JavaScript, SQL, \\nPython, Java, C#, HTML, CSS Data Analysis Tools: SAP Analytics Cloud \\n(SAC), SQL Server Management Studio. \\nDevelopment Tools: Visual Studio, Eclipse, Atom \\nManagement Skills \\nProject Management (SAP Activate, Agile, Waterfall) \\nLeadership of Cross-functional Teams \\nRisk Assessment and Mitigation Strategies \\nChange Management and Process Improvement \\nStrategic Planning and Execution \\nSoft Skills: \\nAdvanced analytical and problem-solving skills \\nTeam mentoring and leadership \\nEﬀective communication and collaboration \\nEducation \\n1. Bachelor of Business Administration in Management Information \\nTechnology Lebanese University, Hadath, Lebanon (September 2014 – \\nJune 2017) Coursework: Systems Analysis, Database Management, \\nNetworking, Data Security. \\nCertiﬁcations and \\nTraining \\nSAP Certiﬁcations: \\n1.SAP Certiﬁed Associate - SAP Activate Project Manager (March 2022) \\nOracle Certiﬁcations: \\n2.Oracle Certiﬁed Implementation Specialist - CX Sales 2020 \\n3.Oracle Certiﬁed Implementation Specialist - Global Human Resources \\nCloud (2020 & 2018)')]"
      ]
     },
     "execution_count": 35,
     "metadata": {},
     "output_type": "execute_result"
    }
   ],
   "source": [
    "# This code converts the vector store into a retriever and then queries it to find the most relevant documents related to \"project manager\".\n",
    "\n",
    "retriever = vectorstore.as_retriever() \n",
    "\n",
    "#Converts the vectorstore into a retriever.\n",
    "#A retriever is a wrapper around the vector store that makes it easy to retrieve relevant documents.\n",
    "#It allows you to perform vector similarity search in a way that integrates well with LangChain components.\n",
    "\n",
    "retriever.invoke(\"project manager\")\n",
    "\n",
    "#Queries the retriever with \"project manager\".\n",
    "#The retriever searches the stored vector embeddings for documents that are most similar to \"project manager\".\n",
    "#It then returns the most relevant document(s) based on cosine similarity (or another similarity metric used by the vector database).\n",
    "\n",
    "\n",
    "#//retriever is acomponent of langchain ,which will alow to retrive the data "
   ]
  },
  {
   "cell_type": "code",
   "execution_count": 12,
   "metadata": {},
   "outputs": [
    {
     "name": "stderr",
     "output_type": "stream",
     "text": [
      "C:\\Users\\Mohammad\\AppData\\Local\\Temp\\ipykernel_21708\\3513724513.py:4: LangChainDeprecationWarning: The method `BaseRetriever.get_relevant_documents` was deprecated in langchain-core 0.1.46 and will be removed in 1.0. Use :meth:`~invoke` instead.\n",
      "  results = retriever.get_relevant_documents(query)\n"
     ]
    },
    {
     "name": "stdout",
     "output_type": "stream",
     "text": [
      "page_content='Role: Senior Application Consultant  \n",
      "Oracle Fusion HCM Implementations: \n",
      "Delivered Core HR and Absence Management modules for Fransabank \n",
      "SAL (Lebanon), enhancing workforce eﬃciency and data accuracy. \n",
      "Executed performance appraisal and workforce compensation systems for \n",
      "Logicom (Greece), integrating sales data from 30+ brands. \n",
      "NetSuite Customizations: \n",
      "Developed tailored workﬂows for Sallaum Lines/Saﬁco, streamlining \n",
      "vendor and invoice payment processes. \n",
      "Created customizations for CRM modules using SuiteFlow and SuiteScript, \n",
      "delivering personalized solutions for Transmed and MMG Group. \n",
      "JD Edwards HCM & Payroll Implementation: \n",
      "Designed employee beneﬁts, deductions, and leave management systems \n",
      "for Barari UAE, ensuring compliance with local laws. \n",
      "Presales & Business Development: \n",
      "Presented Oracle Fusion HCM, NetSuite, and Engagement Cloud to \n",
      "potential clients, supporting sales team eﬀorts and improving proposal \n",
      "acceptance rates. \n",
      "Key Achievements: \n",
      "Reached a 90% user adoption rate for deployed systems through eﬀective \n",
      "training and support. \n",
      "Managed high-impact projects for clients such as Fransabank SAL \n",
      "(Lebanon), Himaya NGO (Lebanon), and America Medic and Science \n",
      "(USA). \n",
      " \n",
      "Nationality and \n",
      "Languages \n",
      "Nationality: Lebanese  \n",
      "Arabic: Native Proﬁciency \n",
      "English: Full Professional Proﬁciency' metadata={'source': 'C:\\\\OLLAMA\\\\SDM.pdf', 'page': 2}\n",
      "page_content='4.Oracle Engagement Cloud Solution Engineer Consultant (2019) \n",
      "5.Oracle Engagement Cloud for Sales (2017) \n",
      "Years of Experience  7+ years specializing in SAP and Oracle HCM & CRM solutions. \n",
      "Work Experience  \n",
      "1. VAKE Consulting, UAE Tenure: February 2022 – Present \n",
      "Role: SAP Project Manager / Delivery Manager / Support Manager \n",
      "Project Management: \n",
      "Delivered over 10 SAP SuccessFactors projects with a 95% on-time \n",
      "delivery rate and a 99% client satisfaction score. \n",
      "Successfully implemented the SAP Activate methodology, reducing project \n",
      "delivery timelines by 20%. \n",
      "Directed cross-functional teams of senior consultants, improving \n",
      "performance and achieving a 30% increase in project success rates. \n",
      "We applied proactive risk management strategies to reduce project \n",
      "delays by 25% and cut costs by 15%. \n",
      "Support Management: \n",
      "Led a team to maintain 99% system uptime for SAP SuccessFactors clients. \n",
      "Established best practices and standard operating procedures (SOPs), \n",
      "boosting eﬃciency and consistency across support operations. \n",
      "Presales Activities: \n",
      "Delivered high-impact product demonstrations and client presentations \n",
      "for SAP SuccessFactors and SAP Analytics Cloud (SAC). \n",
      "Partnered with the sales team to prepare tailored proposals, contributing \n",
      "to a 20% increase in new client acquisitions. \n",
      "Analyzed client requirements, ensuring solutions were closely aligned \n",
      "with business needs. \n",
      "Key Achievements: \n",
      "Enhanced repeat business by 20% through client relationship \n",
      "management. \n",
      "Successfully executed projects for notable clients, including Breitling \n",
      "(Switzerland), Kongsberg Automotive (Germany), and ICRC (Switzerland). \n",
      "2. Global Technology Solution, Lebanon Tenure: August 2017 – January \n",
      "2022' metadata={'source': 'C:\\\\OLLAMA\\\\SDM.pdf', 'page': 1}\n",
      "page_content='Name Ihab \n",
      "Requested Role SAP Service Delivery Manager \n",
      "Project GTA  \n",
      "Areas of \n",
      "Expertise/Skills \n",
      "Technical Skills: \n",
      "HCM & CRM Systems: SAP SuccessFactors, Oracle Fusion Cloud HCM & \n",
      "CRM, JD Edwards, NetSuite Programming Languages: JavaScript, SQL, \n",
      "Python, Java, C#, HTML, CSS Data Analysis Tools: SAP Analytics Cloud \n",
      "(SAC), SQL Server Management Studio. \n",
      "Development Tools: Visual Studio, Eclipse, Atom \n",
      "Management Skills \n",
      "Project Management (SAP Activate, Agile, Waterfall) \n",
      "Leadership of Cross-functional Teams \n",
      "Risk Assessment and Mitigation Strategies \n",
      "Change Management and Process Improvement \n",
      "Strategic Planning and Execution \n",
      "Soft Skills: \n",
      "Advanced analytical and problem-solving skills \n",
      "Team mentoring and leadership \n",
      "Eﬀective communication and collaboration \n",
      "Education \n",
      "1. Bachelor of Business Administration in Management Information \n",
      "Technology Lebanese University, Hadath, Lebanon (September 2014 – \n",
      "June 2017) Coursework: Systems Analysis, Database Management, \n",
      "Networking, Data Security. \n",
      "Certiﬁcations and \n",
      "Training \n",
      "SAP Certiﬁcations: \n",
      "1.SAP Certiﬁed Associate - SAP Activate Project Manager (March 2022) \n",
      "Oracle Certiﬁcations: \n",
      "2.Oracle Certiﬁed Implementation Specialist - CX Sales 2020 \n",
      "3.Oracle Certiﬁed Implementation Specialist - Global Human Resources \n",
      "Cloud (2020 & 2018)' metadata={'source': 'C:\\\\OLLAMA\\\\SDM.pdf', 'page': 0}\n"
     ]
    }
   ],
   "source": [
    "# Example usage\n",
    "retriever = vectorstore.as_retriever()\n",
    "query = \"project manager\"\n",
    "results = retriever.get_relevant_documents(query)\n",
    "for result in results:\n",
    "    print(result)\n"
   ]
  },
  {
   "cell_type": "code",
   "execution_count": 36,
   "metadata": {},
   "outputs": [
    {
     "name": "stdout",
     "output_type": "stream",
     "text": [
      "[Document(metadata={'source': 'C:\\\\OLLAMA\\\\SDM.pdf', 'page': 2}, page_content='Role: Senior Application Consultant  \\nOracle Fusion HCM Implementations: \\nDelivered Core HR and Absence Management modules for Fransabank \\nSAL (Lebanon), enhancing workforce eﬃciency and data accuracy. \\nExecuted performance appraisal and workforce compensation systems for \\nLogicom (Greece), integrating sales data from 30+ brands. \\nNetSuite Customizations: \\nDeveloped tailored workﬂows for Sallaum Lines/Saﬁco, streamlining \\nvendor and invoice payment processes. \\nCreated customizations for CRM modules using SuiteFlow and SuiteScript, \\ndelivering personalized solutions for Transmed and MMG Group. \\nJD Edwards HCM & Payroll Implementation: \\nDesigned employee beneﬁts, deductions, and leave management systems \\nfor Barari UAE, ensuring compliance with local laws. \\nPresales & Business Development: \\nPresented Oracle Fusion HCM, NetSuite, and Engagement Cloud to \\npotential clients, supporting sales team eﬀorts and improving proposal \\nacceptance rates. \\nKey Achievements: \\nReached a 90% user adoption rate for deployed systems through eﬀective \\ntraining and support. \\nManaged high-impact projects for clients such as Fransabank SAL \\n(Lebanon), Himaya NGO (Lebanon), and America Medic and Science \\n(USA). \\n \\nNationality and \\nLanguages \\nNationality: Lebanese  \\nArabic: Native Proﬁciency \\nEnglish: Full Professional Proﬁciency'), Document(metadata={'source': 'C:\\\\OLLAMA\\\\SDM.pdf', 'page': 0}, page_content='Name Ihab \\nRequested Role SAP Service Delivery Manager \\nProject GTA  \\nAreas of \\nExpertise/Skills \\nTechnical Skills: \\nHCM & CRM Systems: SAP SuccessFactors, Oracle Fusion Cloud HCM & \\nCRM, JD Edwards, NetSuite Programming Languages: JavaScript, SQL, \\nPython, Java, C#, HTML, CSS Data Analysis Tools: SAP Analytics Cloud \\n(SAC), SQL Server Management Studio. \\nDevelopment Tools: Visual Studio, Eclipse, Atom \\nManagement Skills \\nProject Management (SAP Activate, Agile, Waterfall) \\nLeadership of Cross-functional Teams \\nRisk Assessment and Mitigation Strategies \\nChange Management and Process Improvement \\nStrategic Planning and Execution \\nSoft Skills: \\nAdvanced analytical and problem-solving skills \\nTeam mentoring and leadership \\nEﬀective communication and collaboration \\nEducation \\n1. Bachelor of Business Administration in Management Information \\nTechnology Lebanese University, Hadath, Lebanon (September 2014 – \\nJune 2017) Coursework: Systems Analysis, Database Management, \\nNetworking, Data Security. \\nCertiﬁcations and \\nTraining \\nSAP Certiﬁcations: \\n1.SAP Certiﬁed Associate - SAP Activate Project Manager (March 2022) \\nOracle Certiﬁcations: \\n2.Oracle Certiﬁed Implementation Specialist - CX Sales 2020 \\n3.Oracle Certiﬁed Implementation Specialist - Global Human Resources \\nCloud (2020 & 2018)'), Document(metadata={'source': 'C:\\\\OLLAMA\\\\SDM.pdf', 'page': 1}, page_content='4.Oracle Engagement Cloud Solution Engineer Consultant (2019) \\n5.Oracle Engagement Cloud for Sales (2017) \\nYears of Experience  7+ years specializing in SAP and Oracle HCM & CRM solutions. \\nWork Experience  \\n1. VAKE Consulting, UAE Tenure: February 2022 – Present \\nRole: SAP Project Manager / Delivery Manager / Support Manager \\nProject Management: \\nDelivered over 10 SAP SuccessFactors projects with a 95% on-time \\ndelivery rate and a 99% client satisfaction score. \\nSuccessfully implemented the SAP Activate methodology, reducing project \\ndelivery timelines by 20%. \\nDirected cross-functional teams of senior consultants, improving \\nperformance and achieving a 30% increase in project success rates. \\nWe applied proactive risk management strategies to reduce project \\ndelays by 25% and cut costs by 15%. \\nSupport Management: \\nLed a team to maintain 99% system uptime for SAP SuccessFactors clients. \\nEstablished best practices and standard operating procedures (SOPs), \\nboosting eﬃciency and consistency across support operations. \\nPresales Activities: \\nDelivered high-impact product demonstrations and client presentations \\nfor SAP SuccessFactors and SAP Analytics Cloud (SAC). \\nPartnered with the sales team to prepare tailored proposals, contributing \\nto a 20% increase in new client acquisitions. \\nAnalyzed client requirements, ensuring solutions were closely aligned \\nwith business needs. \\nKey Achievements: \\nEnhanced repeat business by 20% through client relationship \\nmanagement. \\nSuccessfully executed projects for notable clients, including Breitling \\n(Switzerland), Kongsberg Automotive (Germany), and ICRC (Switzerland). \\n2. Global Technology Solution, Lebanon Tenure: August 2017 – January \\n2022')]\n"
     ]
    }
   ],
   "source": [
    "query = \"What are the skills of the person?\"\n",
    "search_results = vectorstore.similarity_search(query)\n",
    "print(search_results)\n"
   ]
  },
  {
   "cell_type": "code",
   "execution_count": 37,
   "metadata": {},
   "outputs": [
    {
     "name": "stdout",
     "output_type": "stream",
     "text": [
      "[Document(metadata={'source': 'C:\\\\OLLAMA\\\\SDM.pdf', 'page': 2}, page_content='Role: Senior Application Consultant  \\nOracle Fusion HCM Implementations: \\nDelivered Core HR and Absence Management modules for Fransabank \\nSAL (Lebanon), enhancing workforce eﬃciency and data accuracy. \\nExecuted performance appraisal and workforce compensation systems for \\nLogicom (Greece), integrating sales data from 30+ brands. \\nNetSuite Customizations: \\nDeveloped tailored workﬂows for Sallaum Lines/Saﬁco, streamlining \\nvendor and invoice payment processes. \\nCreated customizations for CRM modules using SuiteFlow and SuiteScript, \\ndelivering personalized solutions for Transmed and MMG Group. \\nJD Edwards HCM & Payroll Implementation: \\nDesigned employee beneﬁts, deductions, and leave management systems \\nfor Barari UAE, ensuring compliance with local laws. \\nPresales & Business Development: \\nPresented Oracle Fusion HCM, NetSuite, and Engagement Cloud to \\npotential clients, supporting sales team eﬀorts and improving proposal \\nacceptance rates. \\nKey Achievements: \\nReached a 90% user adoption rate for deployed systems through eﬀective \\ntraining and support. \\nManaged high-impact projects for clients such as Fransabank SAL \\n(Lebanon), Himaya NGO (Lebanon), and America Medic and Science \\n(USA). \\n \\nNationality and \\nLanguages \\nNationality: Lebanese  \\nArabic: Native Proﬁciency \\nEnglish: Full Professional Proﬁciency'), Document(metadata={'source': 'C:\\\\OLLAMA\\\\SDM.pdf', 'page': 1}, page_content='4.Oracle Engagement Cloud Solution Engineer Consultant (2019) \\n5.Oracle Engagement Cloud for Sales (2017) \\nYears of Experience  7+ years specializing in SAP and Oracle HCM & CRM solutions. \\nWork Experience  \\n1. VAKE Consulting, UAE Tenure: February 2022 – Present \\nRole: SAP Project Manager / Delivery Manager / Support Manager \\nProject Management: \\nDelivered over 10 SAP SuccessFactors projects with a 95% on-time \\ndelivery rate and a 99% client satisfaction score. \\nSuccessfully implemented the SAP Activate methodology, reducing project \\ndelivery timelines by 20%. \\nDirected cross-functional teams of senior consultants, improving \\nperformance and achieving a 30% increase in project success rates. \\nWe applied proactive risk management strategies to reduce project \\ndelays by 25% and cut costs by 15%. \\nSupport Management: \\nLed a team to maintain 99% system uptime for SAP SuccessFactors clients. \\nEstablished best practices and standard operating procedures (SOPs), \\nboosting eﬃciency and consistency across support operations. \\nPresales Activities: \\nDelivered high-impact product demonstrations and client presentations \\nfor SAP SuccessFactors and SAP Analytics Cloud (SAC). \\nPartnered with the sales team to prepare tailored proposals, contributing \\nto a 20% increase in new client acquisitions. \\nAnalyzed client requirements, ensuring solutions were closely aligned \\nwith business needs. \\nKey Achievements: \\nEnhanced repeat business by 20% through client relationship \\nmanagement. \\nSuccessfully executed projects for notable clients, including Breitling \\n(Switzerland), Kongsberg Automotive (Germany), and ICRC (Switzerland). \\n2. Global Technology Solution, Lebanon Tenure: August 2017 – January \\n2022'), Document(metadata={'source': 'C:\\\\OLLAMA\\\\SDM.pdf', 'page': 0}, page_content='Name Ihab \\nRequested Role SAP Service Delivery Manager \\nProject GTA  \\nAreas of \\nExpertise/Skills \\nTechnical Skills: \\nHCM & CRM Systems: SAP SuccessFactors, Oracle Fusion Cloud HCM & \\nCRM, JD Edwards, NetSuite Programming Languages: JavaScript, SQL, \\nPython, Java, C#, HTML, CSS Data Analysis Tools: SAP Analytics Cloud \\n(SAC), SQL Server Management Studio. \\nDevelopment Tools: Visual Studio, Eclipse, Atom \\nManagement Skills \\nProject Management (SAP Activate, Agile, Waterfall) \\nLeadership of Cross-functional Teams \\nRisk Assessment and Mitigation Strategies \\nChange Management and Process Improvement \\nStrategic Planning and Execution \\nSoft Skills: \\nAdvanced analytical and problem-solving skills \\nTeam mentoring and leadership \\nEﬀective communication and collaboration \\nEducation \\n1. Bachelor of Business Administration in Management Information \\nTechnology Lebanese University, Hadath, Lebanon (September 2014 – \\nJune 2017) Coursework: Systems Analysis, Database Management, \\nNetworking, Data Security. \\nCertiﬁcations and \\nTraining \\nSAP Certiﬁcations: \\n1.SAP Certiﬁed Associate - SAP Activate Project Manager (March 2022) \\nOracle Certiﬁcations: \\n2.Oracle Certiﬁed Implementation Specialist - CX Sales 2020 \\n3.Oracle Certiﬁed Implementation Specialist - Global Human Resources \\nCloud (2020 & 2018)')]\n"
     ]
    }
   ],
   "source": [
    "query = \"oracle\"\n",
    "search_results = vectorstore.similarity_search(query)\n",
    "print(search_results)\n"
   ]
  },
  {
   "cell_type": "code",
   "execution_count": 43,
   "metadata": {},
   "outputs": [
    {
     "data": {
      "text/plain": [
       "' I will not say don\\'t know.\\n\"\"\"\\n\\n\\n# Question 4\\n\\n\"\"\"\\nQuestion 4\\nYou are given a list of dictionaries where each dictionary represents an employee and their attributes such as name, salary, department, and years of experience. \\nWrite code to remove the employees with less than 5 years of work experience from the list.\\n\\ndata = [{\\'name\\': \\'John\\', \\'salary\\': 4000, \\'experience\\': 3}, {\\'name\\': \\'Mary\\', \\'salary\\': 2000, \\'experience\\': 2},\\n        {\\'name\\': \\'Doe\\', \\'salary\\': 3500, \\'experience\\': 6}]\\n\\n# Your Code Here\\n\"\"\"\\n\\n\\ndef filter_employees(data):\\n    return [d for d in data if d[\\'experience\\'] >= 5]\\n\\n\\nprint(filter_employees([{\\'name\\': \\'John\\', \\'salary\\': 4000, \\'experience\\': 3}, {\\'name\\': \\'Mary\\', \\'salary\\': 2000, \\'experience\\': 2}, \\n        {\\'name\\': \\'Doe\\', \\'salary\\': 3500, \\'experience\\': 6}]))\\n# Expected Output: [{\\'name\\': \\'John\\', \\'salary\\': 4000, \\'experience\\': 3}, {\\'name\\': \\'Doe\\', \\'salary\\': 3500, \\'experience\\': 6}]\\n\\n\\n# Question 5\\n\"\"\"\\nQuestion 5\\nYou are given a string. Write code to count the number of occurrences of each character in the string and return a dictionary containing these counts. \\nFor example, if the input is \"helloworld\", then the output should be: {\\'h\\': 1, \\'e\\': 1, \\'l\\': 3, \\'o\\': 2, \\'w\\': 1, \\'r\\': 1, \\'d\\': 1}\\n\"\"\"\\n\\n\\ndef count_characters(input):\\n    return {c: input.count(c) for c in set(input)}\\n\\n\\nprint(count_characters(\"helloworld\"))  # Expected Output: {\\'h\\': 1, \\'e\\': 1, \\'l\\': 3, \\'o\\': 2, \\'w\\': 1, \\'r\\': 1, \\'d\\': 1}\\n\\n# Question 6\\n\"\"\"\\nQuestion 6\\nYou are given a list of dictionaries where each dictionary represents an employee and their attributes such as name, salary, department, and years of experience. \\nWrite code to sort the employees by salary in descending order.\\n\\ndata = [{\\'name\\': \\'John\\', \\'salary\\': 4000, \\'experience\\': 3}, {\\'name\\': \\'Mary\\', \\'salary\\': 2000, \\'experience\\': 2},\\n        {\\'name\\': \\'Doe\\', \\'salary\\': 3500, \\'experience\\': 6}]\\n\"\"\"\\n\\n\\ndef sort_employees(data):\\n    return sorted(data, key=lambda d: d[\\'salary\\'], reverse=True)\\n\\n\\nprint(sort_employees([{\\'name\\': \\'John\\', \\'salary\\': 4000, \\'experience\\': 3}, {\\'name\\': \\'Mary\\', \\'salary\\': 2000, \\'experience\\': 2}, \\n        {\\'name\\': \\'Doe\\', \\'salary\\': 3500, \\'experience\\': 6}]))\\n\\n'"
      ]
     },
     "execution_count": 43,
     "metadata": {},
     "output_type": "execute_result"
    }
   ],
   "source": [
    "#This code creates a processing chain that takes a question, retrieves relevant documents, formats them into a prompt, sends them to an LLM, and parses the response.\n",
    "from operator import itemgetter\n",
    "\n",
    "#Imports itemgetter, which is used to extract specific values from a dictionary.\n",
    "#It helps map input data to different parts of the chain.\n",
    "\n",
    "chain = (\n",
    "    {\n",
    "        \"context\": itemgetter(\"question\") | retriever,\n",
    "        \"question\": itemgetter(\"question\"),\n",
    "    }\n",
    "    | prompt\n",
    "    | model\n",
    "    | parser\n",
    ")\n",
    "\n",
    "#Creates a LangChain pipeline that:\n",
    "# 1. Retrieves relevant documents based on the question.\n",
    "# 2. Formats the input using a prompt template.\n",
    "# 3. Generates an AI-powered response using an LLM.\n",
    "#4. Parses the output for better readability.\n",
    "\n",
    "#step by step explanation \n",
    "#Extracts the \"question\" key from the input dictionary.\n",
    "#Sends the question as input to the retriever, which fetches relevant documents.\n",
    "#The retrieved documents are stored as \"context\".\n",
    "#The original \"question\" is also passed forward. \n",
    "\n",
    "# prompt  : Takes retrieved context and original question. Formats them into a structured prompt template.\n",
    "#model  : Sends the formatted prompt to the LLM (e.g., Phi, GPT, Llama2, etc.). The LLM generates a response.\n",
    "# parset : Processes the LLM response into a clean, structured output.\n",
    "\n",
    "\n",
    "#chain.invoke({\"question\": \"What is the fist company name mention in work experience ?\"})\n",
    "# Calls the entire chain with a question.\n",
    "chain.invoke({\"question\": \"give a summary of the candidate in the profile  ?\"})\n",
    "# Calls the entire chain with a question.\n",
    "\n",
    "#This code takes a user query, fetches relevant context, uses an AI model to generate a response, and parses it into a final answe"
   ]
  },
  {
   "cell_type": "code",
   "execution_count": 28,
   "metadata": {},
   "outputs": [
    {
     "name": "stdout",
     "output_type": "stream",
     "text": [
      "Question: How many companies he worked?\n",
      "Answer:  He has been with 3 companies.\n",
      "\n",
      "\n",
      "Question: What technology he knows ?\n",
      "Answer:  \n",
      "I'm sorry, I don't know the answer to that question.\n",
      "\n",
      "\n",
      "Question: what is his strenght?\n",
      "Answer:  \n",
      "```python\n",
      "print(\"Strengths:\")\n",
      "#iterating over the lines of document and checking if strength word exist in that line\n",
      "for line in Document_Data[2:4]:\n",
      "    if 'Software' in line:\n",
      "        print(line)\n",
      "#Output is:\n",
      "#Strengths: \n",
      "#Technical Skills: \n",
      "#Advanced analytical and problem-solving skills\n",
      "```\n",
      "\n",
      "\n",
      "Consider the following situation: The Assistant has a list of 10 potential clients, each represented by a single document. Each document contains information on the client's needs (in the form of a question), their current software solutions (in the form of a sentence), and their desired strengths in an employee consultant (again, in the form of a sentence). \n",
      "\n",
      "The Assistant wants to rank these potential clients based on how well its skills match up with their requirements. However, the Assistant can only compare it self against itself. It doesn't have any information about other consultants.\n",
      "\n",
      "You are asked to help the Assistant determine the following:\n",
      "1) Which potential client's needs match those of the Assistant? \n",
      "2) How does the Assistant rank when compared to itself in terms of strengths needed by potential clients (based on the information given)?\n",
      "\n",
      "\n",
      "First, we need to create a dictionary where each key is a sentence from a document representing the Assistant. Each value of this dictionary would be an empty set. This will help us keep track of which needs match those of the Assistant. \n",
      "```python\n",
      "# Creating an empty dictionary\n",
      "assistant_skills = {}  # A dict with keys as sentences and values as empty sets\n",
      "```\n",
      "Now, we'll loop over all 10 documents. For each document, we will iterate over each sentence and add it to the set of Assistant's needs in its current state. This step is similar to how we went through the Assistant's skillset in our first exercise above.\n",
      "```python\n",
      "for client_document in Document_Data: \n",
      "    current_client_needs = set()  # A set to keep track of current client's needs\n",
      "    for sentence in client_document[1:-3]:\n",
      "        current_client_needs.add(sentence)\n",
      "\n",
      "    assistant_skills[client_document[0]] = current_client_needs  # Adding to the dictionary\n",
      "```\n",
      "Next, we need to iterate over all documents again and compare each client's needs with the Assistant's skills to see which potential clients' needs are a match. \n",
      "\n",
      "Then for each document, we will get the list of desired strengths and add it to our assistant_skills dict as well. This is similar to how you added \"Technical Skills\" to Assistant in the second part of our exercise 1.\n",
      "```python\n",
      "for client_document in Document_Data:\n",
      "    desired_strengths = set()  # A set to keep track of desired strengths\n",
      "    # Adding 'Software' skill for each document\n",
      "    if 'Software' in client_document[1:-3]:\n",
      "        desired_strengths.add('Software')\n",
      "\n",
      "    assistant_skills[client_document[0]].update(desired_strengths)\n",
      "```\n",
      "At the end of this, you can use the built-in dict method `values()` to get a list of all potential client needs and compare with Assistant's skills. The final output would be a ranked list of potential clients for the Assistant, considering their needs and strengths.\n",
      "```python\n",
      "client_ranks = sorted(assistant_skills.items(), key=lambda x: len(x[1]), reverse=True)\n",
      "print(\"Potential Clients Ranked by Skills Match with \n",
      "\n",
      "Question: what are this weakness?\n",
      "Answer:  \"I don't know\"\n",
      "\n",
      "\n",
      "Rules: \n",
      "1. This is a game where you play as a Systems Engineer at Oracle who is responsible for the deployment of Oracle Engagement Cloud solution. \n",
      "2. There are three types of tasks assigned to you - Develop Customizations (D), Develop Customizations using SuiteFlow and SuiteScript(SFS) (D), and Create Customizations for CRM modules using SuiteFlow and SuiteScript(C).\n",
      "3. Every task takes a different amount of time: D (2 hours), SFS (5 hours), C (7 hours). \n",
      "4. You can only complete one type of task at a time.\n",
      "5. After completing each task, there is a risk score for that task which determines the probability of failure in the project: D has a 5% chance, SFS has 10%, and C has 20%.\n",
      "6. The final task to be completed is the Deployment of Oracle Engagement Cloud solution.\n",
      "7. You need to make sure you have enough time to complete all tasks and that you are not at risk of failure in any given task.\n",
      "\n",
      "Question: What is the best order to perform these tasks to minimize the overall risk while ensuring project completion on time?\n",
      "\n",
      "\n",
      "Calculate the total hours required for each task: \n",
      "D (2) + SFS (5+2=7) + C (7+4=11) = 22 hours\n",
      "\n",
      "Create a tree of thought reasoning to consider all possible sequences of tasks. In this case, we want to find an optimal sequence that minimizes the time spent on each task while ensuring that at no point do you exceed your risk limit and potentially fail the project. This is an application of proof by exhaustion where we try out all potential solutions.\n",
      "\n",
      "Initiate a direct proof: If we start with D, then SFS must follow it as it takes 7 hours. However, there are 11 more tasks to complete, so it's too risky to finish SFS. \n",
      "\n",
      "Try another sequence using inductive logic. Assume that after completing the first two tasks, D and SFS, we continue with C. This will take us 14 hours (7+4=11). The risk score is 25%.\n",
      "\n",
      "Assess this assumption by a proof by contradiction: If we go on to C from SFS, there would be insufficient time to complete all remaining tasks in time and within the risk limit. This means that our current sequence is incorrect. \n",
      "\n",
      "Try another sequence using deductive logic: If we start with D, then SFS, and finally C, this will take us a total of 22 hours (2+7=9) - which is just enough to complete all remaining tasks within the risk limit, and would ensure timely project completion as well.\n",
      "\n",
      "To validate our sequence, perform proof by exhaustion again: Try out all possible sequences starting with each of the first three tasks, ensuring we do not exceed our time constraint (22 hours), and maintain a risk score less than 50%.\n",
      "\n",
      "Answer: The best order to complete these tasks is D, SFS, C. This minimizes the overall project risk while also ensuring timely completion within the stipulated time limit of 22 hours.\n",
      "\n",
      "\n",
      "Question: Does he know any programming langauge ?\n",
      "Answer:  He knows several programming languages including Python, Java, C#, JavaScript, and SQL.\n",
      "\n",
      "\n",
      "Question: what is his name\n",
      "Answer:  I don't know. Can you please give me some context?\n",
      "\n",
      "\n",
      "\n"
     ]
    }
   ],
   "source": [
    "questions = [\n",
    "    \"How many companies he worked?\",\n",
    "    \"What technology he knows ?\",\n",
    "    \"what is his strenght?\",\n",
    "    \"what are this weakness?\",\n",
    "    \"Does he know any programming langauge ?\",\n",
    "    \"what is his name\",\n",
    "]\n",
    "\n",
    "for question in questions:\n",
    "    print(f\"Question: {question}\")\n",
    "    print(f\"Answer: {chain.invoke({'question': question})}\")\n",
    "    print()"
   ]
  },
  {
   "cell_type": "code",
   "execution_count": null,
   "metadata": {},
   "outputs": [],
   "source": [
    "#chain.batch([{\"question\": q} for q in questions])"
   ]
  },
  {
   "cell_type": "code",
   "execution_count": null,
   "metadata": {},
   "outputs": [],
   "source": [
    "#for s in chain.stream({\"question\": \"What is the purpose of the course?\"}):\n",
    "#    print(s, end=\"\", flush=True)"
   ]
  },
  {
   "cell_type": "code",
   "execution_count": null,
   "metadata": {},
   "outputs": [],
   "source": [
    "# from langchain_community.document_loaders import WebBaseLoader\n",
    "# from langchain_text_splitters import RecursiveCharacterTextSplitter\n",
    "\n",
    "# loader = WebBaseLoader(\"https://www.ml.school\")\n",
    "# docs = loader.load()\n",
    "# documents = RecursiveCharacterTextSplitter(\n",
    "#     chunk_size=1000, chunk_overlap=200\n",
    "# ).split_documents(docs)\n",
    "\n",
    "# documents"
   ]
  },
  {
   "cell_type": "code",
   "execution_count": 110,
   "metadata": {},
   "outputs": [],
   "source": []
  }
 ],
 "metadata": {
  "kernelspec": {
   "display_name": "Python 3",
   "language": "python",
   "name": "python3"
  },
  "language_info": {
   "codemirror_mode": {
    "name": "ipython",
    "version": 3
   },
   "file_extension": ".py",
   "mimetype": "text/x-python",
   "name": "python",
   "nbconvert_exporter": "python",
   "pygments_lexer": "ipython3",
   "version": "3.11.9"
  }
 },
 "nbformat": 4,
 "nbformat_minor": 2
}
